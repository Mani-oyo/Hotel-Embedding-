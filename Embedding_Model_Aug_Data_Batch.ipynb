{
 "cells": [
  {
   "cell_type": "markdown",
   "id": "c0ef0ccb",
   "metadata": {},
   "source": [
    "### Developer: Mani kanta\n",
    "\n",
    "### Aim: Embedding generation using Skip Gram Model"
   ]
  },
  {
   "cell_type": "markdown",
   "id": "d228d629",
   "metadata": {},
   "source": [
    "# Importing Libraries"
   ]
  },
  {
   "cell_type": "code",
   "execution_count": 13,
   "id": "811b637e",
   "metadata": {},
   "outputs": [],
   "source": [
    "import torch\n",
    "from torch.autograd import Variable\n",
    "import torch.nn as nn\n",
    "import torch.nn.functional as F\n",
    "import numpy as np\n",
    "from tqdm import tqdm\n",
    "import zipfile\n",
    "import collections\n",
    "import math\n",
    "import random\n",
    "\n",
    "from torch.autograd import Variable\n",
    "import torch.optim as optim\n",
    "import torch.nn.functional as Func\n",
    "from torch.optim.lr_scheduler import StepLR\n",
    "import time\n",
    "\n",
    "from s3fs.core import S3FileSystem\n",
    "import io\n",
    "s3 = S3FileSystem()\n"
   ]
  },
  {
   "cell_type": "code",
   "execution_count": 14,
   "id": "8c5f1175",
   "metadata": {},
   "outputs": [
    {
     "name": "stdout",
     "output_type": "stream",
     "text": [
      "embedding_1.pth\r\n",
      "Embedding_Model_Aug_Data_Batch.ipynb\r\n",
      "Embedding_Model_Full_Data_Batch_GPU.ipynb\r\n",
      "Embedding_Model_Full_Data_Batch.ipynb\r\n",
      "Embedding_Model_Full_Data.ipynb\r\n",
      "Embedding_Model.ipynb\r\n",
      "Embedding Preprocessing.ipynb\r\n",
      "embedding_v1.pth\r\n",
      "embedding_v2.pth\r\n",
      "Hotel.csv\r\n",
      "idx2word_aug.npy\r\n",
      "neg_sample_city_aug.npy\r\n",
      "neg_sample_country_aug.npy\r\n",
      "part-00000-34fc8918-9837-47bb-9d5e-c1babbd238a5-c000.snappy.parquet\r\n",
      "pos_sample_aug.npy\r\n",
      "train_data.npy\r\n",
      "T-sne plot_1.ipynb\r\n",
      "T-sne plot_v1.ipynb\r\n",
      "T-sne plot_v2.ipynb\r\n",
      "within_city.npy\r\n",
      "within_country.npy\r\n"
     ]
    }
   ],
   "source": [
    "ls"
   ]
  },
  {
   "cell_type": "code",
   "execution_count": 15,
   "id": "54deee0c",
   "metadata": {},
   "outputs": [],
   "source": [
    "with open('pos_sample_aug.npy', 'rb') as f:\n",
    "    train_data = np.load(f,allow_pickle=True )"
   ]
  },
  {
   "cell_type": "code",
   "execution_count": 16,
   "id": "95924152",
   "metadata": {},
   "outputs": [],
   "source": [
    "with open('neg_sample_city_aug.npy', 'rb') as f:\n",
    "    within_city = np.load(f,allow_pickle=True )"
   ]
  },
  {
   "cell_type": "code",
   "execution_count": 17,
   "id": "6f428b6f",
   "metadata": {},
   "outputs": [],
   "source": [
    "with open('neg_sample_country_aug.npy', 'rb') as f:\n",
    "    within_country = np.load(f,allow_pickle=True )"
   ]
  },
  {
   "cell_type": "code",
   "execution_count": 18,
   "id": "4e4eed51",
   "metadata": {},
   "outputs": [
    {
     "data": {
      "text/plain": [
       "6950523"
      ]
     },
     "execution_count": 18,
     "metadata": {},
     "output_type": "execute_result"
    }
   ],
   "source": [
    "len(train_data)"
   ]
  },
  {
   "cell_type": "code",
   "execution_count": 19,
   "id": "f9e70c2e",
   "metadata": {},
   "outputs": [
    {
     "data": {
      "text/plain": [
       "6950523"
      ]
     },
     "execution_count": 19,
     "metadata": {},
     "output_type": "execute_result"
    }
   ],
   "source": [
    "len(within_city)"
   ]
  },
  {
   "cell_type": "code",
   "execution_count": 20,
   "id": "51ad062f",
   "metadata": {},
   "outputs": [
    {
     "data": {
      "text/plain": [
       "6950523"
      ]
     },
     "execution_count": 20,
     "metadata": {},
     "output_type": "execute_result"
    }
   ],
   "source": [
    "len(within_country)"
   ]
  },
  {
   "cell_type": "code",
   "execution_count": 21,
   "id": "f520fdbc",
   "metadata": {},
   "outputs": [
    {
     "data": {
      "text/plain": [
       "(81417, 5)"
      ]
     },
     "execution_count": 21,
     "metadata": {},
     "output_type": "execute_result"
    }
   ],
   "source": [
    "import pandas as pd\n",
    "hotel = pd.read_csv(\"Hotel.csv\")\n",
    "hotel.shape"
   ]
  },
  {
   "cell_type": "code",
   "execution_count": 22,
   "id": "92f15e18",
   "metadata": {},
   "outputs": [
    {
     "data": {
      "text/html": [
       "<div>\n",
       "<style scoped>\n",
       "    .dataframe tbody tr th:only-of-type {\n",
       "        vertical-align: middle;\n",
       "    }\n",
       "\n",
       "    .dataframe tbody tr th {\n",
       "        vertical-align: top;\n",
       "    }\n",
       "\n",
       "    .dataframe thead th {\n",
       "        text-align: right;\n",
       "    }\n",
       "</style>\n",
       "<table border=\"1\" class=\"dataframe\">\n",
       "  <thead>\n",
       "    <tr style=\"text-align: right;\">\n",
       "      <th></th>\n",
       "      <th>Unnamed: 0</th>\n",
       "      <th>hotel_id</th>\n",
       "      <th>city_id</th>\n",
       "      <th>city_name</th>\n",
       "      <th>country_id</th>\n",
       "    </tr>\n",
       "  </thead>\n",
       "  <tbody>\n",
       "    <tr>\n",
       "      <th>0</th>\n",
       "      <td>0</td>\n",
       "      <td>94319</td>\n",
       "      <td>678.0</td>\n",
       "      <td>Nha-Trang</td>\n",
       "      <td>217</td>\n",
       "    </tr>\n",
       "    <tr>\n",
       "      <th>1</th>\n",
       "      <td>1</td>\n",
       "      <td>13195</td>\n",
       "      <td>4.0</td>\n",
       "      <td>Bangalore</td>\n",
       "      <td>1</td>\n",
       "    </tr>\n",
       "    <tr>\n",
       "      <th>2</th>\n",
       "      <td>2</td>\n",
       "      <td>89191</td>\n",
       "      <td>4.0</td>\n",
       "      <td>Bangalore</td>\n",
       "      <td>1</td>\n",
       "    </tr>\n",
       "    <tr>\n",
       "      <th>3</th>\n",
       "      <td>3</td>\n",
       "      <td>86999</td>\n",
       "      <td>421.0</td>\n",
       "      <td>Karimnagar</td>\n",
       "      <td>1</td>\n",
       "    </tr>\n",
       "    <tr>\n",
       "      <th>4</th>\n",
       "      <td>4</td>\n",
       "      <td>87204</td>\n",
       "      <td>677.0</td>\n",
       "      <td>Krabi</td>\n",
       "      <td>8</td>\n",
       "    </tr>\n",
       "    <tr>\n",
       "      <th>...</th>\n",
       "      <td>...</td>\n",
       "      <td>...</td>\n",
       "      <td>...</td>\n",
       "      <td>...</td>\n",
       "      <td>...</td>\n",
       "    </tr>\n",
       "    <tr>\n",
       "      <th>81412</th>\n",
       "      <td>81412</td>\n",
       "      <td>62801</td>\n",
       "      <td>1.0</td>\n",
       "      <td>Gurgaon</td>\n",
       "      <td>1</td>\n",
       "    </tr>\n",
       "    <tr>\n",
       "      <th>81413</th>\n",
       "      <td>81413</td>\n",
       "      <td>97059</td>\n",
       "      <td>14.0</td>\n",
       "      <td>Kolkata</td>\n",
       "      <td>1</td>\n",
       "    </tr>\n",
       "    <tr>\n",
       "      <th>81414</th>\n",
       "      <td>81414</td>\n",
       "      <td>110181</td>\n",
       "      <td>1.0</td>\n",
       "      <td>Gurgaon</td>\n",
       "      <td>1</td>\n",
       "    </tr>\n",
       "    <tr>\n",
       "      <th>81415</th>\n",
       "      <td>81415</td>\n",
       "      <td>5298</td>\n",
       "      <td>5.0</td>\n",
       "      <td>Mumbai</td>\n",
       "      <td>1</td>\n",
       "    </tr>\n",
       "    <tr>\n",
       "      <th>81416</th>\n",
       "      <td>81416</td>\n",
       "      <td>59541</td>\n",
       "      <td>699.0</td>\n",
       "      <td>Kasargod</td>\n",
       "      <td>1</td>\n",
       "    </tr>\n",
       "  </tbody>\n",
       "</table>\n",
       "<p>81417 rows × 5 columns</p>\n",
       "</div>"
      ],
      "text/plain": [
       "       Unnamed: 0  hotel_id  city_id   city_name  country_id\n",
       "0               0     94319    678.0   Nha-Trang         217\n",
       "1               1     13195      4.0   Bangalore           1\n",
       "2               2     89191      4.0   Bangalore           1\n",
       "3               3     86999    421.0  Karimnagar           1\n",
       "4               4     87204    677.0       Krabi           8\n",
       "...           ...       ...      ...         ...         ...\n",
       "81412       81412     62801      1.0     Gurgaon           1\n",
       "81413       81413     97059     14.0     Kolkata           1\n",
       "81414       81414    110181      1.0     Gurgaon           1\n",
       "81415       81415      5298      5.0      Mumbai           1\n",
       "81416       81416     59541    699.0    Kasargod           1\n",
       "\n",
       "[81417 rows x 5 columns]"
      ]
     },
     "execution_count": 22,
     "metadata": {},
     "output_type": "execute_result"
    }
   ],
   "source": [
    "hotel"
   ]
  },
  {
   "cell_type": "code",
   "execution_count": 23,
   "id": "b54f1c3c",
   "metadata": {},
   "outputs": [],
   "source": [
    "class skipgram(nn.Module):\n",
    "    def __init__(self, vocab_size, embedding_dim):\n",
    "        super(skipgram, self).__init__()\n",
    "        self.u_embeddings = nn.Embedding(vocab_size, embedding_dim, sparse=True)   \n",
    "        self.v_embeddings = nn.Embedding(vocab_size, embedding_dim, sparse=True) \n",
    "        self.embedding_dim = embedding_dim\n",
    "        self.init_emb()\n",
    "    \n",
    "    def init_emb(self):\n",
    "        initrange = 0.5 / self.embedding_dim\n",
    "        self.u_embeddings.weight.data.uniform_(-initrange, initrange)\n",
    "        self.v_embeddings.weight.data.uniform_(-0, 0)\n",
    "    \n",
    "    def forward(self, u_pos, v_pos, v_neg_city, v_neg_country):\n",
    "\n",
    "        embed_u = self.u_embeddings(u_pos)\n",
    "        embed_v = self.v_embeddings(v_pos)\n",
    "        \n",
    "        embed_u = embed_u.unsqueeze(0)\n",
    "\n",
    "        score  = torch.mul(embed_u, embed_v)\n",
    "        score = torch.sum(score, dim=1)\n",
    "        log_target = F.logsigmoid(score).squeeze()\n",
    "\n",
    "        neg_embed_v_city = self.v_embeddings(v_neg_city)\n",
    "        neg_embed_v_country = self.v_embeddings(v_neg_country)\n",
    "\n",
    "        neg_score_city = torch.mul(neg_embed_v_city, embed_u)\n",
    "        neg_score_city = torch.sum(neg_score_city, dim=1)\n",
    "        sum_log_neg_score_city = F.logsigmoid(-1*neg_score_city).squeeze()\n",
    "        \n",
    "        neg_score_country = torch.mul(neg_embed_v_country, embed_u)\n",
    "        neg_score_country = torch.sum(neg_score_country, dim=1)\n",
    "        sum_log_neg_score_country = F.logsigmoid(-1*neg_score_country).squeeze()\n",
    "\n",
    "        loss = log_target.sum() + sum_log_neg_score_city.sum() + sum_log_neg_score_country.sum()\n",
    "\n",
    "        return -1*loss\n",
    "    \n",
    "    def input_embeddings(self):\n",
    "        return self.u_embeddings.weight.data.cpu().numpy()\n",
    "   \n",
    "    def save_model(model, model_dir):\n",
    "        logger.info(\"Saving the model.\")\n",
    "        path = os.path.join(model_dir, \"embedding_aug_BGD.pth\")\n",
    "        torch.save(model.cpu().state_dict(), path)\n"
   ]
  },
  {
   "cell_type": "code",
   "execution_count": null,
   "id": "a5175481",
   "metadata": {},
   "outputs": [
    {
     "name": "stderr",
     "output_type": "stream",
     "text": [
      "\r",
      "  0%|          | 0/6950523 [00:00<?, ?it/s]"
     ]
    },
    {
     "name": "stdout",
     "output_type": "stream",
     "text": [
      "1635827719.5412352\n"
     ]
    },
    {
     "name": "stderr",
     "output_type": "stream",
     "text": [
      " 11%|█         | 773439/6950523 [13:59<1:51:18, 924.89it/s] "
     ]
    }
   ],
   "source": [
    "model = skipgram(81417, 200)\n",
    "batch_size = 1\n",
    "optimizer = optim.SGD(model.parameters(),lr=0.2)\n",
    "start = time.time()\n",
    "print(start)\n",
    "for epoch in range(100):\n",
    "    epoch_start = time.time()     \n",
    "    batch_num = 0\n",
    "    batch_new = 0\n",
    "    epoch_loss = 0\n",
    "    \n",
    "    for i in tqdm(range(len(train_data)//batch_size)):\n",
    "        loss = 0\n",
    "        for j in range(batch_size):\n",
    "            center_id = torch.tensor(train_data[i+j][0])\n",
    "            positive = torch.tensor(train_data[i+j][1])\n",
    "            neg_within_city = torch.tensor(within_city[i+j])\n",
    "            neg_within_country = torch.tensor(within_country[i+j])\n",
    "            optimizer.zero_grad()\n",
    "            loss = loss + model(center_id, positive, neg_within_city, neg_within_country)\n",
    "            # print(loss)\n",
    "        loss = loss/(batch_size*1.0)\n",
    "        epoch_loss = epoch_loss + loss\n",
    "        loss.backward()\n",
    "        optimizer.step()\n",
    "        batch_num = batch_num + 1         \n",
    "            \n",
    "#     print(\"epoch done!! - \",epoch ,\" time taken: \", time.time() - epoch_start)\n",
    "    print(epoch_loss/(len(train_data)))\n",
    "            \n",
    "print(\"Optimization Finished!\")\n",
    "print(\"total time: \", time.time()- start)"
   ]
  },
  {
   "cell_type": "code",
   "execution_count": 17,
   "id": "d5c3808f",
   "metadata": {},
   "outputs": [
    {
     "ename": "UnicodeDecodeError",
     "evalue": "'utf-8' codec can't decode byte 0x93 in position 0: invalid start byte",
     "output_type": "error",
     "traceback": [
      "\u001b[0;31m---------------------------------------------------------------------------\u001b[0m",
      "\u001b[0;31mUnicodeDecodeError\u001b[0m                        Traceback (most recent call last)",
      "\u001b[0;32m<ipython-input-17-b871f2834798>\u001b[0m in \u001b[0;36m<module>\u001b[0;34m\u001b[0m\n\u001b[1;32m      2\u001b[0m \u001b[0;34m\u001b[0m\u001b[0m\n\u001b[1;32m      3\u001b[0m \u001b[0;32mwith\u001b[0m \u001b[0mopen\u001b[0m\u001b[0;34m(\u001b[0m\u001b[0;34m'idx2word_aug.npy'\u001b[0m\u001b[0;34m)\u001b[0m \u001b[0;32mas\u001b[0m \u001b[0mf\u001b[0m\u001b[0;34m:\u001b[0m\u001b[0;34m\u001b[0m\u001b[0;34m\u001b[0m\u001b[0m\n\u001b[0;32m----> 4\u001b[0;31m     \u001b[0mdata\u001b[0m \u001b[0;34m=\u001b[0m \u001b[0mf\u001b[0m\u001b[0;34m.\u001b[0m\u001b[0mread\u001b[0m\u001b[0;34m(\u001b[0m\u001b[0;34m)\u001b[0m\u001b[0;34m\u001b[0m\u001b[0;34m\u001b[0m\u001b[0m\n\u001b[0m\u001b[1;32m      5\u001b[0m \u001b[0midx_to_word\u001b[0m \u001b[0;34m=\u001b[0m \u001b[0mjson\u001b[0m\u001b[0;34m.\u001b[0m\u001b[0mloads\u001b[0m\u001b[0;34m(\u001b[0m\u001b[0mdata\u001b[0m\u001b[0;34m)\u001b[0m\u001b[0;34m\u001b[0m\u001b[0;34m\u001b[0m\u001b[0m\n",
      "\u001b[0;32m~/anaconda3/envs/pytorch_latest_p36/lib/python3.6/codecs.py\u001b[0m in \u001b[0;36mdecode\u001b[0;34m(self, input, final)\u001b[0m\n\u001b[1;32m    319\u001b[0m         \u001b[0;31m# decode input (taking the buffer into account)\u001b[0m\u001b[0;34m\u001b[0m\u001b[0;34m\u001b[0m\u001b[0;34m\u001b[0m\u001b[0m\n\u001b[1;32m    320\u001b[0m         \u001b[0mdata\u001b[0m \u001b[0;34m=\u001b[0m \u001b[0mself\u001b[0m\u001b[0;34m.\u001b[0m\u001b[0mbuffer\u001b[0m \u001b[0;34m+\u001b[0m \u001b[0minput\u001b[0m\u001b[0;34m\u001b[0m\u001b[0;34m\u001b[0m\u001b[0m\n\u001b[0;32m--> 321\u001b[0;31m         \u001b[0;34m(\u001b[0m\u001b[0mresult\u001b[0m\u001b[0;34m,\u001b[0m \u001b[0mconsumed\u001b[0m\u001b[0;34m)\u001b[0m \u001b[0;34m=\u001b[0m \u001b[0mself\u001b[0m\u001b[0;34m.\u001b[0m\u001b[0m_buffer_decode\u001b[0m\u001b[0;34m(\u001b[0m\u001b[0mdata\u001b[0m\u001b[0;34m,\u001b[0m \u001b[0mself\u001b[0m\u001b[0;34m.\u001b[0m\u001b[0merrors\u001b[0m\u001b[0;34m,\u001b[0m \u001b[0mfinal\u001b[0m\u001b[0;34m)\u001b[0m\u001b[0;34m\u001b[0m\u001b[0;34m\u001b[0m\u001b[0m\n\u001b[0m\u001b[1;32m    322\u001b[0m         \u001b[0;31m# keep undecoded input until the next call\u001b[0m\u001b[0;34m\u001b[0m\u001b[0;34m\u001b[0m\u001b[0;34m\u001b[0m\u001b[0m\n\u001b[1;32m    323\u001b[0m         \u001b[0mself\u001b[0m\u001b[0;34m.\u001b[0m\u001b[0mbuffer\u001b[0m \u001b[0;34m=\u001b[0m \u001b[0mdata\u001b[0m\u001b[0;34m[\u001b[0m\u001b[0mconsumed\u001b[0m\u001b[0;34m:\u001b[0m\u001b[0;34m]\u001b[0m\u001b[0;34m\u001b[0m\u001b[0;34m\u001b[0m\u001b[0m\n",
      "\u001b[0;31mUnicodeDecodeError\u001b[0m: 'utf-8' codec can't decode byte 0x93 in position 0: invalid start byte"
     ]
    }
   ],
   "source": [
    "with open('idx2word_aug.npy', 'rb') as f:\n",
    "    idx2word = np.load(f,allow_pickle=True )"
   ]
  },
  {
   "cell_type": "code",
   "execution_count": null,
   "id": "c15c40c2",
   "metadata": {},
   "outputs": [],
   "source": []
  },
  {
   "cell_type": "code",
   "execution_count": null,
   "id": "a78daf58",
   "metadata": {},
   "outputs": [],
   "source": [
    "device = torch.device('cuda' if torch.cuda.is_available() else 'cpu')\n",
    "print('Using device:', device)\n",
    "print()\n",
    "\n",
    "#Additional Info when using cuda\n",
    "if device.type == 'cuda':\n",
    "    print(torch.cuda.get_device_name(0))\n",
    "    print('Memory Usage:')\n",
    "    print('Allocated:', round(torch.cuda.memory_allocated(0)/1024**3,1), 'GB')\n",
    "    print('Cached:   ', round(torch.cuda.memory_reserved(0)/1024**3,1), 'GB')"
   ]
  },
  {
   "cell_type": "code",
   "execution_count": null,
   "id": "8899ea64",
   "metadata": {},
   "outputs": [],
   "source": []
  },
  {
   "cell_type": "code",
   "execution_count": null,
   "id": "fcb7a68d",
   "metadata": {},
   "outputs": [],
   "source": [
    "167115/143509"
   ]
  },
  {
   "cell_type": "code",
   "execution_count": null,
   "id": "fcf89d06",
   "metadata": {},
   "outputs": [],
   "source": [
    "0.01"
   ]
  }
 ],
 "metadata": {
  "kernelspec": {
   "display_name": "conda_amazonei_pytorch_latest_p36",
   "language": "python",
   "name": "conda_amazonei_pytorch_latest_p36"
  },
  "language_info": {
   "codemirror_mode": {
    "name": "ipython",
    "version": 3
   },
   "file_extension": ".py",
   "mimetype": "text/x-python",
   "name": "python",
   "nbconvert_exporter": "python",
   "pygments_lexer": "ipython3",
   "version": "3.6.13"
  }
 },
 "nbformat": 4,
 "nbformat_minor": 5
}
